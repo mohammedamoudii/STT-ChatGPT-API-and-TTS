{
 "cells": [
  {
   "cell_type": "code",
   "execution_count": 2,
   "id": "62f48737-1f87-4e92-9629-57bf349ca43a",
   "metadata": {},
   "outputs": [
    {
     "name": "stdout",
     "output_type": "stream",
     "text": [
      "Requirement already satisfied: gtts in c:\\users\\mohammed\\anaconda3\\lib\\site-packages (2.5.2)\n",
      "Requirement already satisfied: requests<3,>=2.27 in c:\\users\\mohammed\\anaconda3\\lib\\site-packages (from gtts) (2.31.0)\n",
      "Requirement already satisfied: click<8.2,>=7.1 in c:\\users\\mohammed\\anaconda3\\lib\\site-packages (from gtts) (8.1.7)\n",
      "Requirement already satisfied: colorama in c:\\users\\mohammed\\anaconda3\\lib\\site-packages (from click<8.2,>=7.1->gtts) (0.4.6)\n",
      "Requirement already satisfied: charset-normalizer<4,>=2 in c:\\users\\mohammed\\anaconda3\\lib\\site-packages (from requests<3,>=2.27->gtts) (2.0.4)\n",
      "Requirement already satisfied: idna<4,>=2.5 in c:\\users\\mohammed\\anaconda3\\lib\\site-packages (from requests<3,>=2.27->gtts) (3.4)\n",
      "Requirement already satisfied: urllib3<3,>=1.21.1 in c:\\users\\mohammed\\anaconda3\\lib\\site-packages (from requests<3,>=2.27->gtts) (2.0.7)\n",
      "Requirement already satisfied: certifi>=2017.4.17 in c:\\users\\mohammed\\anaconda3\\lib\\site-packages (from requests<3,>=2.27->gtts) (2024.7.4)\n",
      "Requirement already satisfied: pygame in c:\\users\\mohammed\\anaconda3\\lib\\site-packages (2.6.0)\n",
      "Requirement already satisfied: mysql-connector-python in c:\\users\\mohammed\\anaconda3\\lib\\site-packages (9.0.0)\n"
     ]
    }
   ],
   "source": [
    "!pip install gtts\n",
    "!pip install pygame\n",
    "!pip install mysql-connector-python"
   ]
  },
  {
   "cell_type": "markdown",
   "id": "869366bd-58c1-46a7-b0de-8e44124a98ab",
   "metadata": {},
   "source": [
    "# Import required modules"
   ]
  },
  {
   "cell_type": "code",
   "execution_count": 64,
   "id": "b7f0e70c-c9c4-43cb-a385-29d1be60aa89",
   "metadata": {},
   "outputs": [],
   "source": [
    "from gtts import gTTS\n",
    "import pygame\n",
    "import io\n",
    "from openai import OpenAI"
   ]
  },
  {
   "cell_type": "markdown",
   "id": "6d0cbb24-3355-4afa-b75f-de2895c9ff31",
   "metadata": {},
   "source": [
    "# Replace 'your-api-key' with your actual OpenAI API key"
   ]
  },
  {
   "cell_type": "code",
   "execution_count": 67,
   "id": "9562246d-0fa7-43b3-9ed2-15a24826d614",
   "metadata": {},
   "outputs": [],
   "source": [
    "from openai import OpenAI\n",
    "\n",
    "# Replace 'your-api-key' with your actual OpenAI API key\n",
    "client = OpenAI(api_key='put your key here')\n",
    "\n",
    "def send_message(message_log):\n",
    "    completion = client.chat.completions.create(\n",
    "        model=\"gpt-3.5-turbo\",  # or use \"gpt-4\" if you have access\n",
    "        messages=[\n",
    "            {\"role\": \"user\", \"content\": message_log}\n",
    "        ]\n",
    "    )\n",
    "\n",
    "    # If no response with text is found, return the first response's content (which may be empty)\n",
    "    return completion.choices[0].message.content\n"
   ]
  },
  {
   "cell_type": "code",
   "execution_count": 69,
   "id": "dfa8fcfb-115e-4b66-ab82-dee51a0c0a9b",
   "metadata": {},
   "outputs": [],
   "source": [
    "def text_to_speech(text):\n",
    "    # The text that you want to convert to audio\n",
    "    mytext = text\n",
    "\n",
    "    # Language in which you want to convert\n",
    "    language = 'en'\n",
    "\n",
    "    # Passing the text and language to the engine\n",
    "    myobj = gTTS(text=mytext, lang=language, slow=False)\n",
    "\n",
    "    # Use BytesIO to handle the audio data in-memory\n",
    "    audio_data = io.BytesIO()\n",
    "    myobj.write_to_fp(audio_data)\n",
    "    audio_data.seek(0)\n",
    "\n",
    "    # Initialize the mixer module\n",
    "    pygame.mixer.init()\n",
    "\n",
    "    # Load the audio data from BytesIO\n",
    "    pygame.mixer.music.load(audio_data, 'mp3')\n",
    "\n",
    "    # Play the loaded audio data\n",
    "    pygame.mixer.music.play()\n",
    "\n",
    "    # Keep the program running long enough to hear the audio\n",
    "    while pygame.mixer.music.get_busy():\n",
    "        continue"
   ]
  },
  {
   "cell_type": "markdown",
   "id": "6320ad4b-ede2-48ce-a1c9-14750d0b79e4",
   "metadata": {},
   "source": [
    "# Main function that runs the chatbot"
   ]
  },
  {
   "cell_type": "code",
   "execution_count": 74,
   "id": "a998064d-e208-46bd-a84c-e5913c97249a",
   "metadata": {},
   "outputs": [
    {
     "name": "stdout",
     "output_type": "stream",
     "text": [
      "AI assistant: Making a movie involves several steps and requires collaboration with a team of professionals. Here is a general overview of the process:\n",
      "\n",
      "1. Developing a Script: The first step in making a movie is to develop a script. This can be an original script written by the filmmaker or an adaptation of a book, play, or other source material.\n",
      "\n",
      "2. Pre-production: During the pre-production phase, the filmmakers will work on casting, location scouting, and hiring crew members. They will also create a budget and schedule for the film.\n",
      "\n",
      "3. Production: Production is the filming stage where the scenes are shot according to the script. This involves setting up lights, cameras, and sound equipment and directing the actors.\n",
      "\n",
      "4. Post-production: Post-production involves editing the filmed footage, adding visual effects, and sound mixing. This stage also includes scoring the film with music and creating the final cut.\n",
      "\n",
      "5. Distribution: Once the movie is completed, it can be distributed to audiences through a variety of channels, such as movie theaters, streaming services, and DVD/Blu-ray.\n",
      "\n",
      "Making a movie can be a complex and time-consuming process, but with careful planning and the right team, filmmakers can create a successful and engaging film.\n",
      "AI assistant: Making a movie is a complex process that requires a lot of planning, coordination, and resources. Here are the general steps involved in making a movie:\n",
      "\n",
      "1. Write a screenplay: The first step in making a movie is to come up with a script or screenplay. This will serve as the blueprint for the entire movie and will guide the filmmakers in the production process.\n",
      "\n",
      "2. Secure funding: Making a movie can be expensive, so you will need to secure funding to cover the costs of production. This can come from investors, production companies, or crowdfunding campaigns.\n",
      "\n",
      "3. Assemble a team: Once you have your script and funding in place, you will need to assemble a team of filmmakers, including a director, producers, cinematographer, and other crew members.\n",
      "\n",
      "4. Plan the production: Before you start filming, you will need to plan out every aspect of the production, including scheduling, location scouting, casting, and budgeting.\n",
      "\n",
      "5. Film the movie: Once everything is in place, you can start filming the movie. This will involve shooting scenes according to the script, working with actors, and managing the technical aspects of production.\n",
      "\n",
      "6. Post-production: After filming is complete, the movie will need to go through a post-production process, which includes editing, sound design, visual effects, and scoring.\n",
      "\n",
      "7. Distribution: Once the movie is finished, you will need to find a distributor that can help get the movie into theaters, onto streaming platforms, or into other distribution channels.\n",
      "\n",
      "Overall, making a movie is a complex and time-consuming process that requires a lot of hard work and collaboration. But with the right team and resources, you can bring your vision to life on the big screen.\n"
     ]
    },
    {
     "ename": "KeyboardInterrupt",
     "evalue": "",
     "output_type": "error",
     "traceback": [
      "\u001b[1;31m---------------------------------------------------------------------------\u001b[0m",
      "\u001b[1;31mKeyboardInterrupt\u001b[0m                         Traceback (most recent call last)",
      "Cell \u001b[1;32mIn[74], line 40\u001b[0m\n\u001b[0;32m     37\u001b[0m         text_to_speech(response)\n\u001b[0;32m     39\u001b[0m \u001b[38;5;28;01mif\u001b[39;00m \u001b[38;5;18m__name__\u001b[39m \u001b[38;5;241m==\u001b[39m \u001b[38;5;124m\"\u001b[39m\u001b[38;5;124m__main__\u001b[39m\u001b[38;5;124m\"\u001b[39m:\n\u001b[1;32m---> 40\u001b[0m     main()\n",
      "Cell \u001b[1;32mIn[74], line 37\u001b[0m, in \u001b[0;36mmain\u001b[1;34m()\u001b[0m\n\u001b[0;32m     34\u001b[0m message_log\u001b[38;5;241m.\u001b[39mappend({\u001b[38;5;124m\"\u001b[39m\u001b[38;5;124mrole\u001b[39m\u001b[38;5;124m\"\u001b[39m: \u001b[38;5;124m\"\u001b[39m\u001b[38;5;124massistant\u001b[39m\u001b[38;5;124m\"\u001b[39m, \u001b[38;5;124m\"\u001b[39m\u001b[38;5;124mcontent\u001b[39m\u001b[38;5;124m\"\u001b[39m: response})\n\u001b[0;32m     36\u001b[0m \u001b[38;5;66;03m# Convert the chatbot's response to speech\u001b[39;00m\n\u001b[1;32m---> 37\u001b[0m text_to_speech(response)\n",
      "Cell \u001b[1;32mIn[69], line 26\u001b[0m, in \u001b[0;36mtext_to_speech\u001b[1;34m(text)\u001b[0m\n\u001b[0;32m     23\u001b[0m pygame\u001b[38;5;241m.\u001b[39mmixer\u001b[38;5;241m.\u001b[39mmusic\u001b[38;5;241m.\u001b[39mplay()\n\u001b[0;32m     25\u001b[0m \u001b[38;5;66;03m# Keep the program running long enough to hear the audio\u001b[39;00m\n\u001b[1;32m---> 26\u001b[0m \u001b[38;5;28;01mwhile\u001b[39;00m pygame\u001b[38;5;241m.\u001b[39mmixer\u001b[38;5;241m.\u001b[39mmusic\u001b[38;5;241m.\u001b[39mget_busy():\n\u001b[0;32m     27\u001b[0m     \u001b[38;5;28;01mcontinue\u001b[39;00m\n",
      "\u001b[1;31mKeyboardInterrupt\u001b[0m: "
     ]
    }
   ],
   "source": [
    "def read_question_from_file(file_path):\n",
    "    with open(file_path, 'r') as file:\n",
    "        question = file.read().strip()\n",
    "    return question\n",
    "\n",
    "# Main function that runs the chatbot\n",
    "def main():\n",
    "    # Initialize the conversation history with a message from the chatbot\n",
    "    message_log = [\n",
    "        {\"role\": \"system\", \"content\": \"You are a helpful assistant.\"}\n",
    "    ]\n",
    "\n",
    "    # File path to the text file with the question\n",
    "    file_path = \"E:\\\\Xampp\\\\Xamp\\\\htdocs\\\\SpeechToText\\\\latest_transcript.txt\"\n",
    "\n",
    "    # Start a loop that runs until the user types \"quit\"\n",
    "    while True:\n",
    "        # Read the question from the text file\n",
    "        user_input = read_question_from_file(file_path)\n",
    "        \n",
    "        # If the user types \"quit\", end the loop and print a goodbye message\n",
    "        if user_input.lower() == \"quit\":\n",
    "            print(\"Goodbye!\")\n",
    "            break\n",
    "\n",
    "        # Add the user's input to the conversation history\n",
    "        message_log.append({\"role\": \"user\", \"content\": user_input})\n",
    "\n",
    "        # Send the conversation history to the chatbot and get its response\n",
    "        response = send_message(user_input)\n",
    "        print(f\"AI assistant: {response}\")\n",
    "\n",
    "        # Add the chatbot's response to the conversation history\n",
    "        message_log.append({\"role\": \"assistant\", \"content\": response})\n",
    "\n",
    "        # Convert the chatbot's response to speech\n",
    "        text_to_speech(response)\n",
    "\n",
    "if __name__ == \"__main__\":\n",
    "    main()"
   ]
  },
  {
   "cell_type": "code",
   "execution_count": null,
   "id": "f3a3a255-a509-46c7-8cda-a8e5fa197ca3",
   "metadata": {},
   "outputs": [],
   "source": []
  }
 ],
 "metadata": {
  "kernelspec": {
   "display_name": "Python 3 (ipykernel)",
   "language": "python",
   "name": "python3"
  },
  "language_info": {
   "codemirror_mode": {
    "name": "ipython",
    "version": 3
   },
   "file_extension": ".py",
   "mimetype": "text/x-python",
   "name": "python",
   "nbconvert_exporter": "python",
   "pygments_lexer": "ipython3",
   "version": "3.11.7"
  }
 },
 "nbformat": 4,
 "nbformat_minor": 5
}
